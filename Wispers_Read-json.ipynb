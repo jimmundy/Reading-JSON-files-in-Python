{
 "cells": [
  {
   "cell_type": "markdown",
   "id": "6eb516e5",
   "metadata": {},
   "source": [
    "## Reading Json files\n",
    "JSON (JavaScript Object Notation) is a text format for storing and transporting data. It is “self-describing” and easy to understand. JASON files can be loaded in Python. Two methods are used here: first loading the data using pandas DataFrame and then using the python ‘open() file’ function."
   ]
  },
  {
   "cell_type": "markdown",
   "id": "44469172",
   "metadata": {},
   "source": [
    "#### Requirements:"
   ]
  },
  {
   "cell_type": "code",
   "execution_count": 45,
   "id": "b95b2323",
   "metadata": {},
   "outputs": [],
   "source": [
    "import pandas as pd\n",
    "from pandas import Series, DataFrame\n",
    "import json"
   ]
  },
  {
   "cell_type": "code",
   "execution_count": 46,
   "id": "eba4b83c",
   "metadata": {},
   "outputs": [
    {
     "data": {
      "text/html": [
       "<div>\n",
       "<style scoped>\n",
       "    .dataframe tbody tr th:only-of-type {\n",
       "        vertical-align: middle;\n",
       "    }\n",
       "\n",
       "    .dataframe tbody tr th {\n",
       "        vertical-align: top;\n",
       "    }\n",
       "\n",
       "    .dataframe thead th {\n",
       "        text-align: right;\n",
       "    }\n",
       "</style>\n",
       "<table border=\"1\" class=\"dataframe\">\n",
       "  <thead>\n",
       "    <tr style=\"text-align: right;\">\n",
       "      <th></th>\n",
       "      <th>wellboreName</th>\n",
       "      <th>componentName</th>\n",
       "      <th>topDepth</th>\n",
       "      <th>bottomDepth</th>\n",
       "    </tr>\n",
       "  </thead>\n",
       "  <tbody>\n",
       "    <tr>\n",
       "      <th>0</th>\n",
       "      <td>WB08-03-96</td>\n",
       "      <td>HALITE</td>\n",
       "      <td>3479.0160</td>\n",
       "      <td>3480.560</td>\n",
       "    </tr>\n",
       "    <tr>\n",
       "      <th>1</th>\n",
       "      <td>WB08-03-96</td>\n",
       "      <td>MARL</td>\n",
       "      <td>3490.3590</td>\n",
       "      <td>3492.108</td>\n",
       "    </tr>\n",
       "    <tr>\n",
       "      <th>2</th>\n",
       "      <td>WB08-03-96</td>\n",
       "      <td>SAND</td>\n",
       "      <td>4069.7752</td>\n",
       "      <td>4078.572</td>\n",
       "    </tr>\n",
       "    <tr>\n",
       "      <th>3</th>\n",
       "      <td>WB05-10-20</td>\n",
       "      <td>CLAYSTONE</td>\n",
       "      <td>2650.3000</td>\n",
       "      <td>2652.540</td>\n",
       "    </tr>\n",
       "    <tr>\n",
       "      <th>4</th>\n",
       "      <td>WB05-10-20</td>\n",
       "      <td>CHALK</td>\n",
       "      <td>2890.9600</td>\n",
       "      <td>3001.890</td>\n",
       "    </tr>\n",
       "  </tbody>\n",
       "</table>\n",
       "</div>"
      ],
      "text/plain": [
       "  wellboreName componentName   topDepth  bottomDepth\n",
       "0   WB08-03-96        HALITE  3479.0160     3480.560\n",
       "1   WB08-03-96          MARL  3490.3590     3492.108\n",
       "2   WB08-03-96          SAND  4069.7752     4078.572\n",
       "3   WB05-10-20     CLAYSTONE  2650.3000     2652.540\n",
       "4   WB05-10-20         CHALK  2890.9600     3001.890"
      ]
     },
     "execution_count": 46,
     "metadata": {},
     "output_type": "execute_result"
    }
   ],
   "source": [
    "# METHOD 1. Read data from fileand display in dataframe:\n",
    "df_components = pd.read_json('Geophysics/components.json')\n",
    "# print(df.to_string()) \n",
    "# print(df)\n",
    "df_components.head()"
   ]
  },
  {
   "cell_type": "code",
   "execution_count": 47,
   "id": "5cd0cd98",
   "metadata": {},
   "outputs": [
    {
     "data": {
      "text/html": [
       "<div>\n",
       "<style scoped>\n",
       "    .dataframe tbody tr th:only-of-type {\n",
       "        vertical-align: middle;\n",
       "    }\n",
       "\n",
       "    .dataframe tbody tr th {\n",
       "        vertical-align: top;\n",
       "    }\n",
       "\n",
       "    .dataframe thead th {\n",
       "        text-align: right;\n",
       "    }\n",
       "</style>\n",
       "<table border=\"1\" class=\"dataframe\">\n",
       "  <thead>\n",
       "    <tr style=\"text-align: right;\">\n",
       "      <th></th>\n",
       "      <th>componentName</th>\n",
       "      <th>topDepth</th>\n",
       "      <th>bottomDepth</th>\n",
       "    </tr>\n",
       "    <tr>\n",
       "      <th>wellboreName</th>\n",
       "      <th></th>\n",
       "      <th></th>\n",
       "      <th></th>\n",
       "    </tr>\n",
       "  </thead>\n",
       "  <tbody>\n",
       "    <tr>\n",
       "      <th>WB08-03-96</th>\n",
       "      <td>HALITE</td>\n",
       "      <td>3479.0160</td>\n",
       "      <td>3480.560</td>\n",
       "    </tr>\n",
       "    <tr>\n",
       "      <th>WB08-03-96</th>\n",
       "      <td>MARL</td>\n",
       "      <td>3490.3590</td>\n",
       "      <td>3492.108</td>\n",
       "    </tr>\n",
       "    <tr>\n",
       "      <th>WB08-03-96</th>\n",
       "      <td>SAND</td>\n",
       "      <td>4069.7752</td>\n",
       "      <td>4078.572</td>\n",
       "    </tr>\n",
       "    <tr>\n",
       "      <th>WB05-10-20</th>\n",
       "      <td>CLAYSTONE</td>\n",
       "      <td>2650.3000</td>\n",
       "      <td>2652.540</td>\n",
       "    </tr>\n",
       "    <tr>\n",
       "      <th>WB05-10-20</th>\n",
       "      <td>CHALK</td>\n",
       "      <td>2890.9600</td>\n",
       "      <td>3001.890</td>\n",
       "    </tr>\n",
       "  </tbody>\n",
       "</table>\n",
       "</div>"
      ],
      "text/plain": [
       "             componentName   topDepth  bottomDepth\n",
       "wellboreName                                      \n",
       "WB08-03-96          HALITE  3479.0160     3480.560\n",
       "WB08-03-96            MARL  3490.3590     3492.108\n",
       "WB08-03-96            SAND  4069.7752     4078.572\n",
       "WB05-10-20       CLAYSTONE  2650.3000     2652.540\n",
       "WB05-10-20           CHALK  2890.9600     3001.890"
      ]
     },
     "execution_count": 47,
     "metadata": {},
     "output_type": "execute_result"
    }
   ],
   "source": [
    "#### Set the wellboreName name as index  if that's the feature focus# \n",
    "df_components.set_index('wellboreName', inplace=True)\n",
    "# View the first five elements and see how the dataframe was changed\n",
    "df_components.head()"
   ]
  },
  {
   "cell_type": "code",
   "execution_count": 48,
   "id": "1bc8ceee",
   "metadata": {},
   "outputs": [
    {
     "name": "stdout",
     "output_type": "stream",
     "text": [
      "[{'wellboreName': 'WB08-03-96', 'componentName': 'HALITE', 'topDepth': 3479.016, 'bottomDepth': 3480.56}, {'wellboreName': 'WB08-03-96', 'componentName': 'MARL', 'topDepth': 3490.359, 'bottomDepth': 3492.108}, {'wellboreName': 'WB08-03-96', 'componentName': 'SAND', 'topDepth': 4069.7752, 'bottomDepth': 4078.572}, {'wellboreName': 'WB05-10-20', 'componentName': 'CLAYSTONE', 'topDepth': 2650.3, 'bottomDepth': 2652.54}, {'wellboreName': 'WB05-10-20', 'componentName': 'CHALK', 'topDepth': 2890.96, 'bottomDepth': 3001.89}, {'wellboreName': 'WB05-10-20', 'componentName': 'SHALE', 'topDepth': 3010.51, 'bottomDepth': 3027.654}, {'wellboreName': 'WB05-10-20', 'componentName': 'SILTSTONE', 'topDepth': 7075.37, 'bottomDepth': 7081.26}, {'wellboreName': 'WB05-10-20', 'componentName': 'LIMESTONE', 'topDepth': 7101.134, 'bottomDepth': 7102.292}]\n"
     ]
    }
   ],
   "source": [
    "# METHOD 2. Use Open() file function\n",
    "with open('Geophysics/components.json') as f:\n",
    "  data = json.load(f)\n",
    "print(data)"
   ]
  },
  {
   "cell_type": "code",
   "execution_count": null,
   "id": "698473db",
   "metadata": {},
   "outputs": [],
   "source": []
  }
 ],
 "metadata": {
  "kernelspec": {
   "display_name": "Python 3 (ipykernel)",
   "language": "python",
   "name": "python3"
  },
  "language_info": {
   "codemirror_mode": {
    "name": "ipython",
    "version": 3
   },
   "file_extension": ".py",
   "mimetype": "text/x-python",
   "name": "python",
   "nbconvert_exporter": "python",
   "pygments_lexer": "ipython3",
   "version": "3.10.0"
  }
 },
 "nbformat": 4,
 "nbformat_minor": 5
}
